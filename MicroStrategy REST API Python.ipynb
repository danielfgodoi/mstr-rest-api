{
 "cells": [
  {
   "cell_type": "markdown",
   "metadata": {},
   "source": [
    "# MicroStrategy REST API with Python "
   ]
  },
  {
   "cell_type": "markdown",
   "metadata": {},
   "source": [
    "<a id='top'></a>\n",
    "### MicroStrategy Reference Material:\n",
    "*  MicroStrategy RESTful API Interactive (your Local Demo): http://yourmstrEnv.com/MicroStrategyLibrary/api-docs/\n",
    "* [MicroStrategy RESTful API Interactive (external demo)](https://demo.microstrategy.com/MicroStrategyLibrary/api-docs/index.html#/)\n",
    "* [MicroStrategy REST API Online Documentation](https://lw.microstrategy.com/msdz/MSDL/GARelease_Current/docs/projects/RESTSDK/Content/topics/REST_API/REST_API.htm)\n",
    "\n",
    "### Additional Resources/Inspirations:\n",
    "* [MicroStrategy Sample API Python Example by Robert Prochowicz](https://community.microstrategy.com/s/article/REST-API-10-9-code-example-in-Python)\n",
    "* [Machine Learning with Python On-Demand Video with Scott Rigney](https://www.microstrategy.com/us/resources/library/webcasts/machine-learning-with-python-train-models-on-trust)\n",
    "\n",
    "### Python Library References:\n",
    "* [Python Requests](http://docs.python-requests.org/en/master/)\n",
    "* [Python JSON](https://docs.python.org/3/library/json.html)\n",
    "* [Python Pandas](https://pandas.pydata.org/)\n",
    "\n",
    "\n",
    "### List of Code Examples :\n",
    "1. [login()](#auth)\n",
    "2. [sessionValidate()](#test)\n",
    "3. [userInfo()](#user)\n",
    "4. [listProjcets()](#projects)    \n",
    "5. [getLibrary()](#library)\n",
    "6. [searchObjects()](#search)\n",
    "7. [cubeObjects()](#cubeobjects)\n",
    "8. [Logout User()](#exit)  \n",
    "9. [Embedding Dossier](#magic)   \n",
    "---- WIP to be added -----\n",
    "10.  [Cube Instance](#cubeinstance)\n",
    "11. [Get Cube Data](#cubedata)\n",
    "12. [Create Cube](#createcube)\n",
    "13. [Write/publish a Cube](#writecube)\n"
   ]
  },
  {
   "cell_type": "code",
   "execution_count": 1,
   "metadata": {},
   "outputs": [
    {
     "name": "stdout",
     "output_type": "stream",
     "text": [
      "The code was written using\n",
      "Python Version: 3.6.4\n"
     ]
    }
   ],
   "source": [
    "import platform\n",
    "print('The code was written using\\nPython Version: {}'.format(platform.python_version()))"
   ]
  },
  {
   "cell_type": "markdown",
   "metadata": {},
   "source": [
    "### Import Python Libraries"
   ]
  },
  {
   "cell_type": "code",
   "execution_count": 89,
   "metadata": {},
   "outputs": [],
   "source": [
    "import requests\n",
    "import json\n",
    "from pandas.io.json import json_normalize\n",
    "import pandas as pd\n",
    "import numpy as np"
   ]
  },
  {
   "cell_type": "markdown",
   "metadata": {},
   "source": [
    "## Set Parameters \n",
    "\n",
    "Create the necessary varibales such as `username`, `password`, `projectid` and `baseURL`"
   ]
  },
  {
   "cell_type": "code",
   "execution_count": 7,
   "metadata": {},
   "outputs": [],
   "source": [
    "### Parameters ###\n",
    "username = 'Administrator'\n",
    "password = ''\n",
    "iserver = '10.254.113.99'\n",
    "projectId = 'B19DEDCC11D4E0EFC000EB9495D0F44F'\n",
    "projectName = 'MicroStrategy Tutorial'\n",
    "baseURL = \"http://yourmstrEnv/MicroStrategyLibrary/api/\" #replace with your own URL for MicroStrategy Library API"
   ]
  },
  {
   "cell_type": "markdown",
   "metadata": {},
   "source": [
    "<a id='auth'></a>\n",
    "## Authentication: Returns authToken & SessionId\n",
    "[Top](#top)\n",
    "\n",
    "Implementation Notes (source: MicroStrategy Documentation):  \n",
    "Authenticate a user and create an HTTP session on the web server where the user’s MicroStrategy sessions are stored. This request returns an authorization token (X-MSTR-AuthToken) which will be submitted with subsequent requests. The body of the request contains the information needed to create the session. The loginMode parameter in the body specifies the authentication mode to use. You can authenticate with one of the following authentication modes: Standard (1), Anonymous (8), or LDAP (16). Authentication modes can be enabled through the System Administration REST APIs, if they are supported by the deployment. If you are not able to authenticate using any of the authentication modes, please contact your administrator to determine current support or currently enabled authentication modes."
   ]
  },
  {
   "cell_type": "code",
   "execution_count": 8,
   "metadata": {},
   "outputs": [],
   "source": [
    "def login(baseURL,username,password):\n",
    "    \"\"\"\n",
    "    Authenticate a user and create an HTTP session on the web server.\n",
    "    \n",
    "    Parameters:\n",
    "    -----------\n",
    "    baseURL, username, password\n",
    "    \n",
    "    Returns:\n",
    "    --------\n",
    "    authToken and sessionId.\n",
    "    \n",
    "    Example:\n",
    "    --------\n",
    "    authToken, cookies = login(baseURL, username, password)\n",
    "    \"\"\"\n",
    "    header = {'username': username,\n",
    "                'password': password,\n",
    "                'loginMode': 1}\n",
    "    r = requests.post(baseURL + 'auth/login', data=header)\n",
    "    if r.ok:\n",
    "        authToken = r.headers['X-MSTR-AuthToken']\n",
    "        cookies = dict(r.cookies)\n",
    "        print(\"Token: \" + authToken)\n",
    "        print(\"Session ID: {}\".format(cookies))\n",
    "        return authToken, cookies\n",
    "    else:\n",
    "        print(\"HTTP {} - {}, Message {}\".format(r.status_code, r.reason, r.text))\n",
    "        return []"
   ]
  },
  {
   "cell_type": "code",
   "execution_count": 9,
   "metadata": {},
   "outputs": [
    {
     "name": "stdout",
     "output_type": "stream",
     "text": [
      "Token: hi5j7ajsu1mqe5gvhn4iq0gtoj\n",
      "Session ID: {'JSESSIONID': '876C4572582E88A1E14D4191C3009281'}\n"
     ]
    }
   ],
   "source": [
    "authToken, cookies = login(baseURL,username,password)"
   ]
  },
  {
   "cell_type": "markdown",
   "metadata": {},
   "source": [
    "<a id='test'></a>\n",
    "## Test Session\n",
    "[Top](#top)\n",
    "\n",
    "Implementation Notes (source: MicroStrategy Documentation):  \n",
    "Get information about a configuration session. You obtain the authorization token needed to execute the request using POST /auth/login; you pass the authorization token in the request header. Each time you call this endpoint, both the HTTP and Intelligence Server session timeouts are reset. This request returns information about the authenticated user, locale, timeout duration, maximum number of concurrent searches, and limit on number of instances kept in memory."
   ]
  },
  {
   "cell_type": "code",
   "execution_count": 10,
   "metadata": {},
   "outputs": [],
   "source": [
    "def sessionValiade(baseURL, authToken, cookies):\n",
    "    \"\"\"\n",
    "    Get information about a configuration session\n",
    "    \n",
    "    Parameters:\n",
    "    ----------\n",
    "    baseURL, authToken, cookies\n",
    "    \n",
    "    Returns:\n",
    "    -------\n",
    "    None\n",
    "    \n",
    "    Example:\n",
    "    --------\n",
    "    sessionValiade(baseURL, authToken, cookies)\n",
    "    \n",
    "    \"\"\"\n",
    "    print(\"Checking session...\")\n",
    "    header = {'X-MSTR-AuthToken': authToken,\n",
    "                 'Accept': 'application/json'}\n",
    "    r = requests.get(baseURL + \"sessions\", headers=header, cookies=cookies)\n",
    "    \n",
    "    if r.ok:\n",
    "        print(r.text)\n",
    "    else:\n",
    "        print(\"HTTP {} - {}, Message {}\".format(r.status_code, r.reason, r.text))\n",
    "        return []\n",
    "    "
   ]
  },
  {
   "cell_type": "code",
   "execution_count": 11,
   "metadata": {
    "scrolled": true
   },
   "outputs": [
    {
     "name": "stdout",
     "output_type": "stream",
     "text": [
      "Checking session...\n",
      "{\"locale\":1033,\"maxSearch\":3,\"workingSet\":10,\"timeout\":600,\"id\":\"54F3D26011D2896560009A8E67019608\",\"fullName\":\"Administrator\",\"initials\":\"A\"}\n"
     ]
    }
   ],
   "source": [
    "sessionValiade(baseURL, authToken, cookies)"
   ]
  },
  {
   "cell_type": "markdown",
   "metadata": {},
   "source": [
    "<a id='user'></a>\n",
    "## Get UserInfo\n",
    "[Top](#top)"
   ]
  },
  {
   "cell_type": "code",
   "execution_count": 12,
   "metadata": {},
   "outputs": [],
   "source": [
    "def userInfo(baseURL, authToken, cookies):\n",
    "    \"\"\"\n",
    "    Returns:\n",
    "    --------\n",
    "    Pandas DataFrame\n",
    "    id, fullName, initials\n",
    "    \n",
    "    Example:\n",
    "    --------\n",
    "    user = userInfo(baseURL, authToken, cookies)\n",
    "    \"\"\"\n",
    "    header = {'X-MSTR-AuthToken': authToken,\n",
    "                 'Accept': 'application/json'}\n",
    "    r = requests.get(baseURL + \"sessions/userInfo\", headers=header, cookies=cookies)\n",
    "    \n",
    "    if r.ok:\n",
    "        return json_normalize(json.loads(r.text))\n",
    "    else:\n",
    "        print(\"HTTP {} - {}, Message {}\".format(r.status_code, r.reason, r.text))\n",
    "        return []\n",
    "    "
   ]
  },
  {
   "cell_type": "code",
   "execution_count": 13,
   "metadata": {},
   "outputs": [
    {
     "data": {
      "text/html": [
       "<div>\n",
       "<style scoped>\n",
       "    .dataframe tbody tr th:only-of-type {\n",
       "        vertical-align: middle;\n",
       "    }\n",
       "\n",
       "    .dataframe tbody tr th {\n",
       "        vertical-align: top;\n",
       "    }\n",
       "\n",
       "    .dataframe thead th {\n",
       "        text-align: right;\n",
       "    }\n",
       "</style>\n",
       "<table border=\"1\" class=\"dataframe\">\n",
       "  <thead>\n",
       "    <tr style=\"text-align: right;\">\n",
       "      <th></th>\n",
       "      <th>fullName</th>\n",
       "      <th>id</th>\n",
       "      <th>initials</th>\n",
       "      <th>metadataUser</th>\n",
       "    </tr>\n",
       "  </thead>\n",
       "  <tbody>\n",
       "    <tr>\n",
       "      <th>0</th>\n",
       "      <td>Administrator</td>\n",
       "      <td>54F3D26011D2896560009A8E67019608</td>\n",
       "      <td>A</td>\n",
       "      <td>True</td>\n",
       "    </tr>\n",
       "  </tbody>\n",
       "</table>\n",
       "</div>"
      ],
      "text/plain": [
       "        fullName                                id initials  metadataUser\n",
       "0  Administrator  54F3D26011D2896560009A8E67019608        A          True"
      ]
     },
     "execution_count": 13,
     "metadata": {},
     "output_type": "execute_result"
    }
   ],
   "source": [
    "user = userInfo(baseURL, authToken, cookies)\n",
    "user"
   ]
  },
  {
   "cell_type": "markdown",
   "metadata": {},
   "source": [
    "<a id='library'></a>\n",
    "## Get Library for user\n",
    "[Top](#top)\n",
    "\n",
    "Implementation Notes (source: MicroStrategy Documentation)  \n",
    "Get the library for the authenticated user. You obtain the authorization token needed to execute the request using POST /auth/login; you pass the authorization token in the request header."
   ]
  },
  {
   "cell_type": "code",
   "execution_count": 85,
   "metadata": {},
   "outputs": [],
   "source": [
    "def getLibrary(baseURL, authToken, cookies, flag):\n",
    "    \"\"\"\n",
    "    Get library for authenticated user.\n",
    "    \n",
    "    Parameteres:\n",
    "    ------------\n",
    "    baseURL, authToken, cookies, flag.\n",
    "    flag: 'DEFAULT' or'FILTER_TOC'\n",
    "    \n",
    "    Returns:\n",
    "    --------\n",
    "    Pandas DataFrame (pandas.core.frame.DataFrame)\n",
    "    id, name, description, projectId, active, lastViewedTime\n",
    "    \n",
    "    Example:\n",
    "    --------\n",
    "    getLibrary(baseURL, authToken, cookies, 'DEFAULT')\n",
    "    \"\"\"\n",
    "    \n",
    "    header = {'X-MSTR-AuthToken': authToken,\n",
    "                 'Accept': 'application/json'}\n",
    "    r = requests.get(baseURL + \"library?outputFlag=\"+ flag, headers=header, cookies=cookies)\n",
    "    \n",
    "    if r.ok:            \n",
    "        a = pd.DataFrame(json.loads(r.text))[['id', 'name', 'projectId', 'active','lastViewedTime']]\n",
    "        tmp = []\n",
    "        if (flag == 'DEFAULT'):\n",
    "            for i in json.loads(r.text):\n",
    "                tmp.append(i['target']['id'])\n",
    "            a['target'] = pd.DataFrame(tmp).astype(str)\n",
    "        return a\n",
    "    else:\n",
    "        print(\"HTTP {} - {}, Message {}\".format(r.status_code, r.reason, r.text))\n",
    "        return []"
   ]
  },
  {
   "cell_type": "code",
   "execution_count": 88,
   "metadata": {},
   "outputs": [
    {
     "data": {
      "text/html": [
       "<div>\n",
       "<style scoped>\n",
       "    .dataframe tbody tr th:only-of-type {\n",
       "        vertical-align: middle;\n",
       "    }\n",
       "\n",
       "    .dataframe tbody tr th {\n",
       "        vertical-align: top;\n",
       "    }\n",
       "\n",
       "    .dataframe thead th {\n",
       "        text-align: right;\n",
       "    }\n",
       "</style>\n",
       "<table border=\"1\" class=\"dataframe\">\n",
       "  <thead>\n",
       "    <tr style=\"text-align: right;\">\n",
       "      <th></th>\n",
       "      <th>id</th>\n",
       "      <th>name</th>\n",
       "      <th>projectId</th>\n",
       "      <th>active</th>\n",
       "      <th>lastViewedTime</th>\n",
       "      <th>target</th>\n",
       "    </tr>\n",
       "  </thead>\n",
       "  <tbody>\n",
       "    <tr>\n",
       "      <th>0</th>\n",
       "      <td>21A521BA4DB47ADAEBE19E9E9F7EC7D9</td>\n",
       "      <td>Executive Business User Data Dossier</td>\n",
       "      <td>B19DEDCC11D4E0EFC000EB9495D0F44F</td>\n",
       "      <td>True</td>\n",
       "      <td>2018-08-10T18:53:56.000+0000</td>\n",
       "      <td>FC6E8B6F4950540FC3595093E0FBA306</td>\n",
       "    </tr>\n",
       "    <tr>\n",
       "      <th>1</th>\n",
       "      <td>80AFEAD447DE2430F7E41FBB1B1EFCBA</td>\n",
       "      <td>Category Breakdown Dossier</td>\n",
       "      <td>B19DEDCC11D4E0EFC000EB9495D0F44F</td>\n",
       "      <td>True</td>\n",
       "      <td>2018-08-10T18:55:49.000+0000</td>\n",
       "      <td>95005DFF4C4829CF5EE6E98877726566</td>\n",
       "    </tr>\n",
       "  </tbody>\n",
       "</table>\n",
       "</div>"
      ],
      "text/plain": [
       "                                 id                                  name  \\\n",
       "0  21A521BA4DB47ADAEBE19E9E9F7EC7D9  Executive Business User Data Dossier   \n",
       "1  80AFEAD447DE2430F7E41FBB1B1EFCBA            Category Breakdown Dossier   \n",
       "\n",
       "                          projectId  active                lastViewedTime  \\\n",
       "0  B19DEDCC11D4E0EFC000EB9495D0F44F    True  2018-08-10T18:53:56.000+0000   \n",
       "1  B19DEDCC11D4E0EFC000EB9495D0F44F    True  2018-08-10T18:55:49.000+0000   \n",
       "\n",
       "                             target  \n",
       "0  FC6E8B6F4950540FC3595093E0FBA306  \n",
       "1  95005DFF4C4829CF5EE6E98877726566  "
      ]
     },
     "execution_count": 88,
     "metadata": {},
     "output_type": "execute_result"
    }
   ],
   "source": [
    "libraryInfo = getLibrary(baseURL, authToken, cookies, 'DEFAULT')\n",
    "libraryInfo"
   ]
  },
  {
   "cell_type": "markdown",
   "metadata": {},
   "source": [
    "<a id='projects'></a>\n",
    "## List of Projects\n",
    "[Top](#top)\n",
    "\n",
    "Implementation Notes (Source: MicroStrategy Documentation)  \n",
    "Get a list of projects which the authenticated user has access to. This returns the name, ID, description, alias, and status of each project; the status corresponds to values from EnumDSSXMLProjectStatus. You obtain the authorization token needed to execute the request using POST /auth/login; you pass the authorization token in the request header."
   ]
  },
  {
   "cell_type": "code",
   "execution_count": 38,
   "metadata": {},
   "outputs": [],
   "source": [
    "def listProjects(baseURL, authToken, cookies):   \n",
    "    \"\"\"\n",
    "   Get a list of projects that can be accessed by the authenticated user\n",
    "    \n",
    "    Parameters:\n",
    "    ----------\n",
    "    baseURL, authToken, cookies\n",
    "    \n",
    "    Returns:\n",
    "    -------\n",
    "    Pandas DataFrame\n",
    "    Project Id, Name, Description and Status code\n",
    "    \n",
    "    Example:\n",
    "    --------\n",
    "    sessionValiade(baseURL, authToken, cookies)\n",
    "    \n",
    "    \"\"\"\n",
    "    header = {'X-MSTR-AuthToken': authToken,\n",
    "                 'Accept': 'application/json'}\n",
    "    r = requests.get(baseURL + 'projects', headers=header, cookies=cookies)\n",
    "    if r.ok:\n",
    "        return pd.DataFrame(json.loads(r.text))[['id','name','description', 'status']]\n",
    "    else:\n",
    "        print(\"HTTP {} - {}, Message {}\".format(r.status_code, r.reason, r.text))\n",
    "        return []"
   ]
  },
  {
   "cell_type": "code",
   "execution_count": 39,
   "metadata": {},
   "outputs": [
    {
     "data": {
      "text/html": [
       "<div>\n",
       "<style scoped>\n",
       "    .dataframe tbody tr th:only-of-type {\n",
       "        vertical-align: middle;\n",
       "    }\n",
       "\n",
       "    .dataframe tbody tr th {\n",
       "        vertical-align: top;\n",
       "    }\n",
       "\n",
       "    .dataframe thead th {\n",
       "        text-align: right;\n",
       "    }\n",
       "</style>\n",
       "<table border=\"1\" class=\"dataframe\">\n",
       "  <thead>\n",
       "    <tr style=\"text-align: right;\">\n",
       "      <th></th>\n",
       "      <th>id</th>\n",
       "      <th>name</th>\n",
       "      <th>description</th>\n",
       "      <th>status</th>\n",
       "    </tr>\n",
       "  </thead>\n",
       "  <tbody>\n",
       "    <tr>\n",
       "      <th>0</th>\n",
       "      <td>B19DEDCC11D4E0EFC000EB9495D0F44F</td>\n",
       "      <td>MicroStrategy Tutorial</td>\n",
       "      <td>MicroStrategy Tutorial project and application...</td>\n",
       "      <td>0</td>\n",
       "    </tr>\n",
       "    <tr>\n",
       "      <th>1</th>\n",
       "      <td>AF09B3E3458F78B4FBE4DEB68528BF7B</td>\n",
       "      <td>Human Resources Analysis Module</td>\n",
       "      <td>The Human Resources Analysis Module analyses w...</td>\n",
       "      <td>0</td>\n",
       "    </tr>\n",
       "    <tr>\n",
       "      <th>2</th>\n",
       "      <td>4DD3B04B40D227471401609D630C76ED</td>\n",
       "      <td>Enterprise Manager</td>\n",
       "      <td></td>\n",
       "      <td>0</td>\n",
       "    </tr>\n",
       "  </tbody>\n",
       "</table>\n",
       "</div>"
      ],
      "text/plain": [
       "                                 id                             name  \\\n",
       "0  B19DEDCC11D4E0EFC000EB9495D0F44F           MicroStrategy Tutorial   \n",
       "1  AF09B3E3458F78B4FBE4DEB68528BF7B  Human Resources Analysis Module   \n",
       "2  4DD3B04B40D227471401609D630C76ED               Enterprise Manager   \n",
       "\n",
       "                                         description  status  \n",
       "0  MicroStrategy Tutorial project and application...       0  \n",
       "1  The Human Resources Analysis Module analyses w...       0  \n",
       "2                                                          0  "
      ]
     },
     "execution_count": 39,
     "metadata": {},
     "output_type": "execute_result"
    }
   ],
   "source": [
    "projectList = listProjects(baseURL, authToken, cookies)\n",
    "projectList"
   ]
  },
  {
   "cell_type": "markdown",
   "metadata": {},
   "source": [
    "<a id='search'></a>\n",
    "## Search Objects\n",
    "[Top](#top)\n",
    "\n",
    "Implementation Notes (Source: MicroStrategy Documentation)  \n",
    "Use the stored results of the Quick Search engine to return search results and display them as a list. The Quick Search engine periodically indexes the metadata and stores the results in memory, making Quick Search very fast but with results that may not be the most recent. You obtain the authorization token needed to execute the request using POST /auth/login. You identify the project by specifying the project ID in the request header; you obtain the project ID using GET /projects. You specify the search criteria using query parameters in the request; criteria can include the root folder ID, the search domain, the type of object, whether to return ancestors of the object, and a search pattern such as Begins With or Exactly. You use the offset and limit query parameters to control paging behavior. The offset parameter specifies where to start returning search results, and the limit parameter specifies how many results to return."
   ]
  },
  {
   "cell_type": "code",
   "execution_count": 85,
   "metadata": {},
   "outputs": [],
   "source": [
    "def searchObjects(baseURL, authToken, stype):\n",
    "    \"\"\"\n",
    "    Search for meteadata Objects using EnumDSSObjectType. \n",
    "    \n",
    "    Parameters:\n",
    "    -----------\n",
    "    baseURL, authToken, stype\n",
    "    stype is based on EnumDSSObjectType values for example Folder is 8, Search is 39, Metric is 4 and Attribute is 12\n",
    "    for a lsit of EnumDSSObjectType values reference https://community.microstrategy.com/s/article/KB16048-List-of-all-object-types-and-object-descriptions-in\n",
    "    \n",
    "    Return:\n",
    "    -------\n",
    "    Pandas DataFrame which contains object ID, name, type, owner and additional details\n",
    "    \n",
    "    Example:\n",
    "    --------\n",
    "    searchObjects(baseURL, authToken, '8')\n",
    "    \n",
    "    \"\"\"\n",
    "    \n",
    "    header = {'X-MSTR-AuthToken': authToken,\n",
    "              'X-MSTR-ProjectID': projectId,\n",
    "              'Accept': 'application/json'}\n",
    "    \n",
    "    r = requests.get(baseURL + 'searches/results?type='+ stype, headers=header, cookies=cookies)\n",
    "    \n",
    "    if r.ok:\n",
    "        return pd.DataFrame(json.loads(r.text)['result'])\n",
    "    else:\n",
    "        print(\"HTTP {} - {}, Message {}\".format(r.status_code, r.reason, r.text))\n",
    "        return []"
   ]
  },
  {
   "cell_type": "code",
   "execution_count": 86,
   "metadata": {
    "scrolled": false
   },
   "outputs": [
    {
     "data": {
      "text/html": [
       "<div>\n",
       "<style scoped>\n",
       "    .dataframe tbody tr th:only-of-type {\n",
       "        vertical-align: middle;\n",
       "    }\n",
       "\n",
       "    .dataframe tbody tr th {\n",
       "        vertical-align: top;\n",
       "    }\n",
       "\n",
       "    .dataframe thead th {\n",
       "        text-align: right;\n",
       "    }\n",
       "</style>\n",
       "<table border=\"1\" class=\"dataframe\">\n",
       "  <thead>\n",
       "    <tr style=\"text-align: right;\">\n",
       "      <th></th>\n",
       "      <th>acg</th>\n",
       "      <th>dateCreated</th>\n",
       "      <th>dateModified</th>\n",
       "      <th>extType</th>\n",
       "      <th>id</th>\n",
       "      <th>name</th>\n",
       "      <th>owner</th>\n",
       "      <th>subtype</th>\n",
       "      <th>type</th>\n",
       "      <th>version</th>\n",
       "    </tr>\n",
       "  </thead>\n",
       "  <tbody>\n",
       "    <tr>\n",
       "      <th>0</th>\n",
       "      <td>255</td>\n",
       "      <td>2005-06-27T21:33:41.000+0000</td>\n",
       "      <td>2010-09-13T10:40:53.000+0000</td>\n",
       "      <td>0</td>\n",
       "      <td>87F09D2EBB9B462CAC4581ABCAD97BBD</td>\n",
       "      <td>Search for all objects of type Grid</td>\n",
       "      <td>{'name': 'Administrator', 'id': '54F3D26011D28...</td>\n",
       "      <td>9984</td>\n",
       "      <td>39</td>\n",
       "      <td>08B3974B493CE1E84106EB825B71CB6A</td>\n",
       "    </tr>\n",
       "    <tr>\n",
       "      <th>1</th>\n",
       "      <td>255</td>\n",
       "      <td>2005-06-27T21:33:42.000+0000</td>\n",
       "      <td>2009-02-23T13:33:46.000+0000</td>\n",
       "      <td>0</td>\n",
       "      <td>8A7CAF697BB64191BA3E15FA10DEDA61</td>\n",
       "      <td>Search for all objects of type Text Prompt</td>\n",
       "      <td>{'name': 'Administrator', 'id': '54F3D26011D28...</td>\n",
       "      <td>9984</td>\n",
       "      <td>39</td>\n",
       "      <td>AC6316004E27925A85DDDF928D276A43</td>\n",
       "    </tr>\n",
       "    <tr>\n",
       "      <th>2</th>\n",
       "      <td>255</td>\n",
       "      <td>2010-04-12T11:13:59.000+0000</td>\n",
       "      <td>2010-04-12T11:14:31.000+0000</td>\n",
       "      <td>0</td>\n",
       "      <td>9F4A56074EDD734CBEFFC79A68BC36AF</td>\n",
       "      <td>MicroStrategy Web User Objects</td>\n",
       "      <td>{'name': 'Administrator', 'id': '54F3D26011D28...</td>\n",
       "      <td>9984</td>\n",
       "      <td>39</td>\n",
       "      <td>5726EAF84C05E5B3854423A0E8BA1106</td>\n",
       "    </tr>\n",
       "    <tr>\n",
       "      <th>3</th>\n",
       "      <td>255</td>\n",
       "      <td>2005-06-27T21:33:39.000+0000</td>\n",
       "      <td>2009-02-23T13:33:43.000+0000</td>\n",
       "      <td>0</td>\n",
       "      <td>A1468ECD38754F90B56B611635AC550E</td>\n",
       "      <td>Search for all objects of type Hierarchy</td>\n",
       "      <td>{'name': 'Administrator', 'id': '54F3D26011D28...</td>\n",
       "      <td>9984</td>\n",
       "      <td>39</td>\n",
       "      <td>5E82734349853883096289A9CE83F9A2</td>\n",
       "    </tr>\n",
       "    <tr>\n",
       "      <th>4</th>\n",
       "      <td>255</td>\n",
       "      <td>2001-01-02T20:46:32.000+0000</td>\n",
       "      <td>2007-03-04T16:42:01.000+0000</td>\n",
       "      <td>0</td>\n",
       "      <td>57048C8A11D437E2C000039187BD3A4F</td>\n",
       "      <td>Search for all objects of type Column</td>\n",
       "      <td>{'name': 'Administrator', 'id': '54F3D26011D28...</td>\n",
       "      <td>9984</td>\n",
       "      <td>39</td>\n",
       "      <td>9F27DD6B4FBED44E68CB869371E61BCA</td>\n",
       "    </tr>\n",
       "  </tbody>\n",
       "</table>\n",
       "</div>"
      ],
      "text/plain": [
       "   acg                   dateCreated                  dateModified  extType  \\\n",
       "0  255  2005-06-27T21:33:41.000+0000  2010-09-13T10:40:53.000+0000        0   \n",
       "1  255  2005-06-27T21:33:42.000+0000  2009-02-23T13:33:46.000+0000        0   \n",
       "2  255  2010-04-12T11:13:59.000+0000  2010-04-12T11:14:31.000+0000        0   \n",
       "3  255  2005-06-27T21:33:39.000+0000  2009-02-23T13:33:43.000+0000        0   \n",
       "4  255  2001-01-02T20:46:32.000+0000  2007-03-04T16:42:01.000+0000        0   \n",
       "\n",
       "                                 id  \\\n",
       "0  87F09D2EBB9B462CAC4581ABCAD97BBD   \n",
       "1  8A7CAF697BB64191BA3E15FA10DEDA61   \n",
       "2  9F4A56074EDD734CBEFFC79A68BC36AF   \n",
       "3  A1468ECD38754F90B56B611635AC550E   \n",
       "4  57048C8A11D437E2C000039187BD3A4F   \n",
       "\n",
       "                                         name  \\\n",
       "0         Search for all objects of type Grid   \n",
       "1  Search for all objects of type Text Prompt   \n",
       "2              MicroStrategy Web User Objects   \n",
       "3    Search for all objects of type Hierarchy   \n",
       "4       Search for all objects of type Column   \n",
       "\n",
       "                                               owner  subtype  type  \\\n",
       "0  {'name': 'Administrator', 'id': '54F3D26011D28...     9984    39   \n",
       "1  {'name': 'Administrator', 'id': '54F3D26011D28...     9984    39   \n",
       "2  {'name': 'Administrator', 'id': '54F3D26011D28...     9984    39   \n",
       "3  {'name': 'Administrator', 'id': '54F3D26011D28...     9984    39   \n",
       "4  {'name': 'Administrator', 'id': '54F3D26011D28...     9984    39   \n",
       "\n",
       "                            version  \n",
       "0  08B3974B493CE1E84106EB825B71CB6A  \n",
       "1  AC6316004E27925A85DDDF928D276A43  \n",
       "2  5726EAF84C05E5B3854423A0E8BA1106  \n",
       "3  5E82734349853883096289A9CE83F9A2  \n",
       "4  9F27DD6B4FBED44E68CB869371E61BCA  "
      ]
     },
     "execution_count": 86,
     "metadata": {},
     "output_type": "execute_result"
    }
   ],
   "source": [
    "mySearch = searchObjects(baseURL, authToken, '39')\n",
    "mySearch.head()"
   ]
  },
  {
   "cell_type": "markdown",
   "metadata": {},
   "source": [
    "<a id='cubeobjects'></a>\n",
    "## List Cube Objects\n",
    "[Top](#top)\n",
    "\n",
    "(mplementation Notes (Source: MicroStrategy Documentation)  \n",
    "Get the definition of a specific cube, including attributes and metrics. The cube can be either an Intelligent Cube or a Direct Data Access (DDA)/MDX cube. The in-memory cube definition provides information about all available objects without actually running any data query/report. The results can be used by other requests to help filter large datasets and retrieve values dynamically, helping with performance and scalability. You obtain the authorization token needed to execute the request using POST /auth/login; you pass the authorization token and the project ID in the request header. You specify the cube ID in the path of the request; this can be either an Intelligent cube ID or a DDA/MDX cube ID."
   ]
  },
  {
   "cell_type": "code",
   "execution_count": 127,
   "metadata": {},
   "outputs": [],
   "source": [
    "def cubeObjects(baseURL, authToken, projectId, cookies, cubeId):\n",
    "    \"\"\"\n",
    "    Get definition of a specific cube with cubeId \n",
    "    \n",
    "    Parameters:\n",
    "    -----------\n",
    "    baseURL, authToken, projectId, cookies, cubeId\n",
    "    \n",
    "    Return:\n",
    "    -------\n",
    "    Pandas DataFrame which contains object ID, Object Name and Type (Attribute or Metrics)\n",
    "    \n",
    "    Example:\n",
    "    --------\n",
    "    cubeObjects(baseURL, authToken, projectId, cookies, 'BD23848347017FC2C0B4509AED1AF7B4')\n",
    "    \n",
    "    \"\"\"\n",
    "    header = {'X-MSTR-AuthToken': authToken,\n",
    "                  'X-MSTR-ProjectID': projectId,\n",
    "                 'Accept': 'application/json'}\n",
    "    \n",
    "    r = requests.get(baseURL + 'cubes/' + cubeId, headers=header, cookies=cookies)\n",
    "    \n",
    "    if r.ok:\n",
    "        node = r.json()\n",
    "        attr =  pd.DataFrame(node['result']['definition']['availableObjects']['attributes'])[['id', 'name', 'type']]\n",
    "        mtrcs =  pd.DataFrame(node['result']['definition']['availableObjects']['metrics'])[['id', 'name', 'type']]\n",
    "        return pd.concat([attr, mtrcs])\n",
    "    else:\n",
    "        print(\"HTTP {} - {}, Message {}\".format(r.status_code, r.reason, r.text))\n",
    "        return []"
   ]
  },
  {
   "cell_type": "code",
   "execution_count": 128,
   "metadata": {},
   "outputs": [
    {
     "data": {
      "text/html": [
       "<div>\n",
       "<style scoped>\n",
       "    .dataframe tbody tr th:only-of-type {\n",
       "        vertical-align: middle;\n",
       "    }\n",
       "\n",
       "    .dataframe tbody tr th {\n",
       "        vertical-align: top;\n",
       "    }\n",
       "\n",
       "    .dataframe thead th {\n",
       "        text-align: right;\n",
       "    }\n",
       "</style>\n",
       "<table border=\"1\" class=\"dataframe\">\n",
       "  <thead>\n",
       "    <tr style=\"text-align: right;\">\n",
       "      <th></th>\n",
       "      <th>id</th>\n",
       "      <th>name</th>\n",
       "      <th>type</th>\n",
       "    </tr>\n",
       "  </thead>\n",
       "  <tbody>\n",
       "    <tr>\n",
       "      <th>0</th>\n",
       "      <td>8D679D3811D3E4981000E787EC6DE8A4</td>\n",
       "      <td>Country</td>\n",
       "      <td>Attribute</td>\n",
       "    </tr>\n",
       "    <tr>\n",
       "      <th>1</th>\n",
       "      <td>8D679D3611D3E4981000E787EC6DE8A4</td>\n",
       "      <td>Catalog</td>\n",
       "      <td>Attribute</td>\n",
       "    </tr>\n",
       "    <tr>\n",
       "      <th>2</th>\n",
       "      <td>8D679D3711D3E4981000E787EC6DE8A4</td>\n",
       "      <td>Category</td>\n",
       "      <td>Attribute</td>\n",
       "    </tr>\n",
       "    <tr>\n",
       "      <th>3</th>\n",
       "      <td>8D679D4F11D3E4981000E787EC6DE8A4</td>\n",
       "      <td>Subcategory</td>\n",
       "      <td>Attribute</td>\n",
       "    </tr>\n",
       "    <tr>\n",
       "      <th>0</th>\n",
       "      <td>7FD5B69611D5AC76C000D98A4CC5F24F</td>\n",
       "      <td>Cost</td>\n",
       "      <td>Metric</td>\n",
       "    </tr>\n",
       "    <tr>\n",
       "      <th>1</th>\n",
       "      <td>150349F04560BBA2592D019726DF77DD</td>\n",
       "      <td>Gross Revenue</td>\n",
       "      <td>Metric</td>\n",
       "    </tr>\n",
       "    <tr>\n",
       "      <th>2</th>\n",
       "      <td>4C05190A11D3E877C000B3B2D86C964F</td>\n",
       "      <td>Units Sold</td>\n",
       "      <td>Metric</td>\n",
       "    </tr>\n",
       "  </tbody>\n",
       "</table>\n",
       "</div>"
      ],
      "text/plain": [
       "                                 id           name       type\n",
       "0  8D679D3811D3E4981000E787EC6DE8A4        Country  Attribute\n",
       "1  8D679D3611D3E4981000E787EC6DE8A4        Catalog  Attribute\n",
       "2  8D679D3711D3E4981000E787EC6DE8A4       Category  Attribute\n",
       "3  8D679D4F11D3E4981000E787EC6DE8A4    Subcategory  Attribute\n",
       "0  7FD5B69611D5AC76C000D98A4CC5F24F           Cost     Metric\n",
       "1  150349F04560BBA2592D019726DF77DD  Gross Revenue     Metric\n",
       "2  4C05190A11D3E877C000B3B2D86C964F     Units Sold     Metric"
      ]
     },
     "execution_count": 128,
     "metadata": {},
     "output_type": "execute_result"
    }
   ],
   "source": [
    "cObjects = cubeObjects(baseURL, authToken, projectId, cookies, 'BD23848347017FC2C0B4509AED1AF7B4')\n",
    "cObjects"
   ]
  },
  {
   "cell_type": "markdown",
   "metadata": {},
   "source": [
    "<a id='exit'></a>\n",
    "##  Log Out and end session\n",
    "[Top](#top)"
   ]
  },
  {
   "cell_type": "code",
   "execution_count": 133,
   "metadata": {},
   "outputs": [],
   "source": [
    "def logout(baseURL,authToken):\n",
    "    \n",
    "    header = {'X-MSTR-AuthToken': authToken,\n",
    "                  'Accept': 'application/json'}\n",
    "\n",
    "    r = requests.post(baseURL + 'auth/logout',headers=header, cookies=cookies)\n",
    "    if r.ok:\n",
    "        print(\"Logged Out\")\n",
    "       \n",
    "    else:\n",
    "        print(\"HTTP {} - {}, Message {}\".format(r.status_code, r.reason, r.text))"
   ]
  },
  {
   "cell_type": "code",
   "execution_count": 134,
   "metadata": {},
   "outputs": [
    {
     "name": "stdout",
     "output_type": "stream",
     "text": [
      "Logged Out\n"
     ]
    }
   ],
   "source": [
    "logout(baseURL, authToken)"
   ]
  }
 ],
 "metadata": {
  "kernelspec": {
   "display_name": "Python 3",
   "language": "python",
   "name": "python3"
  },
  "language_info": {
   "codemirror_mode": {
    "name": "ipython",
    "version": 3
   },
   "file_extension": ".py",
   "mimetype": "text/x-python",
   "name": "python",
   "nbconvert_exporter": "python",
   "pygments_lexer": "ipython3",
   "version": "3.6.4"
  }
 },
 "nbformat": 4,
 "nbformat_minor": 2
}
